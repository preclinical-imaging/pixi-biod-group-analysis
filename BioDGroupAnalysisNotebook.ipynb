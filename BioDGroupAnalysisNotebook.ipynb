import os
import xnat
import json
import pandas as pd
import numpy as np
import matplotlib.pyplot as plt
import plotly.figure_factory as ff
import plotly.express as px
import plotly.graph_objects as go

from collections import defaultdict

def extract_sample_data(json_data):
    """
    Extract sample uptake data from the nested JSON structure.
    Returns a list of dictionaries with flattened data.
    """
    samples = []
    # Navigate through the nested structure
    for item in json_data.get('items', []):
        # Get subject group from the top level
        subject_group = item.get('data_fields', {}).get('group', 'Unknown')
        subject_id = item.get('data_fields', {}).get('label', 'Unknown')
        
        # Navigate to experiments
        for child in item.get('children', []):
            if child.get('field') == 'experiments/experiment':
                for experiment in child.get('items', []):
                    # Navigate to sample_uptake_data
                    for exp_child in experiment.get('children', []):
                        if exp_child.get('field') == 'sample_uptake_data':
                            for sample in exp_child.get('items', []):
                                sample_data = sample.get('data_fields', {})
                                if sample_data:  # Only process if data exists
                                    sample_record = {
                                        'subject_group': subject_group,
                                        'subject_id': subject_id,
                                        'sample_type': sample_data.get('sample_type'),
                                        'percent_injected_dose_per_organ': sample_data.get('percent_injected_dose_per_organ'),
                                        'percent_injected_dose_per_gram': sample_data.get('percent_injected_dose_per_gram'),
                                        'sample_weight': sample_data.get('sample_weight'),
                                        'sample_weight_unit': sample_data.get('sample_weight_unit')
                                    }
                                    samples.append(sample_record)
    return samples


def calculate_statistics(df, project_id, group_cols=['subject_group', 'sample_type'], save_csv=None, save_report=None):
    """
    Calculate statistics for specified metrics grouped by given columns.
    
    Parameters:
    -----------
    df : DataFrame
        Input data
    group_cols : list
        Columns to group by for statistics
    save_csv : str, optional
        Path to save statistics as CSV file
    save_report : str, optional
        Path to save formatted statistics report as text file
    """
    metrics = ['percent_injected_dose_per_organ', 'percent_injected_dose_per_gram', 'sample_weight']
    metric_labels = {'percent_injected_dose_per_organ': '%ID/organ', 
                    'percent_injected_dose_per_gram': '%ID/gram',
                    'sample_weight': 'Sample Wt (g)'}
    
    # Group by specified columns and calculate statistics
    stats_list = []
    
    for group_name, group_data in df.groupby(group_cols):
        # Handle single vs multiple grouping columns
        if isinstance(group_name, tuple):
            group_dict = dict(zip(group_cols, group_name))
        else:
            group_dict = {group_cols[0]: group_name}
        
        for metric in metrics:
            values = group_data[metric].dropna()
            if len(values) > 0:
                stats_row = {
                    **group_dict,
                    'metric_label': metric_labels[metric],
                    'mean': round(values.mean(), 4),
                    'std': round(values.std(), 4) if len(values) > 1 else 0.0,
                }
                stats_list.append(stats_row)
    
    stats_df = pd.DataFrame(stats_list)
    
    # Save to CSV if path provided
    if save_csv:
        import os
        # Create directory if it doesn't exist
        save_dir = os.path.dirname(save_csv)
        if save_dir and not os.path.exists(save_dir):
            os.makedirs(save_dir)
        
        stats_df.to_csv(save_csv, index=False)
        print(f"Statistics CSV saved to: {save_csv}")
    
    # Save formatted report if path provided
    if save_report:
        import os
        # Create directory if it doesn't exist
        save_dir = os.path.dirname(save_report)
        if save_dir and not os.path.exists(save_dir):
            os.makedirs(save_dir)
        
        with open(save_report, 'w') as f:
            f.write("BIODISTRIBUTION DATA STATISTICS REPORT\n")
            f.write("=" * 60 + "\n\n")
            f.write(f"Analysis Date: {pd.Timestamp.now().strftime('%Y-%m-%d %H:%M:%S')}\n")
            f.write(f"Project: {project_id}\n")
            f.write(f"Total Samples: {len(df)}\n")
            f.write(f"Grouping: {' + '.join(group_cols)}\n\n")
            
            # Write statistics by group
            for group_name, group_data in df.groupby(group_cols):
                if isinstance(group_name, tuple):
                    group_title = " | ".join([f"{col}: {val}" for col, val in zip(group_cols, group_name)])
                else:
                    group_title = f"{group_cols[0]}: {group_name}"
                
                f.write(f"\n{group_title}\n")
                f.write("-" * len(group_title) + "\n")
                
                for metric in metrics:
                    values = group_data[metric].dropna()
                    if len(values) > 0:
                        f.write(f"{metric_labels[metric]}:\n")
                        f.write(f"  Mean: {values.mean():.4f}\n")
                        f.write(f"  Std:  {values.std():.4f}\n")
            
            # Write summary table
            f.write("\n" + "=" * 60 + "\n")
            f.write("SUMMARY TABLE\n")
            f.write("=" * 60 + "\n\n")
            
            # Convert DataFrame to string with nice formatting
            pd.set_option('display.max_columns', None)
            pd.set_option('display.width', None)
            f.write(stats_df.to_string(index=False))
        
        print(f"Statistics report saved to: {save_report}")
    
    return stats_df

def filter_by_sample_type(samples_df, sample_type):
    """
    Filter data for a specific sample type.
    """
    return samples_df[samples_df['sample_type'] == sample_type]

def getBioDExperiments():
    allBiodSamplesInProject = []
    project_id = os.environ['XNAT_ITEM_ID']

    connection = xnat.connect()
    project = connection.projects[project_id]
    for subject in project.subjects.values():
        if subject.label == 'Hotel':
            continue
        subjectUrl = '/data/projects/' + project_id + '/subjects/' + subject.label
        bioDExperimentsRequest = connection.get(subjectUrl +  '/experiments?format=json&xsiType=pixi:bioDistributionData')
        if not bioDExperimentsRequest.ok:
            print(f'Failed to get BioD experiments')
        bioDExpObj = bioDExperimentsRequest.json() 
        bioDExpID = bioDExpObj['ResultSet']['Result'][0]['ID']
        bioDExperimentRequest = connection.get(subjectUrl + '/experiment/'+ bioDExpID + '?format=json')
        if not bioDExperimentRequest.ok:
            print(f'Failed to get BioD experiment ' + bioDExpID)
        bioDExp = bioDExperimentRequest.json() 
        bioDSampleUptakes = extract_sample_data(bioDExp)
        for bioDSampleUptake in bioDSampleUptakes:
            allBiodSamplesInProject.append(bioDSampleUptake)
    return allBiodSamplesInProject

def plot_error_bars_by_sample_type_and_group(df, save_path=None, save_format='png', dpi=300):
    """
    Create error bar plots for each metric by sample_type and study_group
    
    Parameters:
    -----------
    df : DataFrame
        Input data
    save_path : str, optional
        Full path to save the plot (e.g., 'plots/error_bars.png')
        If None, plot is displayed but not saved
    save_format : str, default 'png'
        File format for saving ('png', 'pdf', 'svg', 'jpg')
    dpi : int, default 300
        Resolution for saved image
    """
    
    # Metrics to plot
    metrics = [
        ('percent_injected_dose_per_organ', '%ID/organ'),
        ('percent_injected_dose_per_gram', '%ID/gram'), 
        ('sample_weight', 'Sample Wt (g)')
    ]
    
    # Create subplots
    fig, axes = plt.subplots(1, 3, figsize=(18, 6))
    fig.suptitle('Biodistribution Data by Organ and Study Group', fontsize=16, fontweight='bold')
    
    for idx, (metric_col, metric_label) in enumerate(metrics):
        ax = axes[idx]
        
        # Calculate statistics grouped by sample_type and subject_group
        stats = df.groupby(['sample_type', 'subject_group'])[metric_col].agg(['mean', 'std']).reset_index()
        
        # Get unique sample types and study groups
        sample_types = sorted(df['sample_type'].unique())
        study_groups = sorted(df['subject_group'].unique())
        
        # Set up bar positions
        x_pos = np.arange(len(sample_types))
        width = 0.35
        
        # Plot bars for each study group
        for i, group in enumerate(study_groups):
            group_stats = stats[stats['subject_group'] == group]
            
            means = []
            stds = []
            
            for sample_type in sample_types:
                sample_stats = group_stats[group_stats['sample_type'] == sample_type]
                if len(sample_stats) > 0:
                    means.append(sample_stats['mean'].iloc[0])
                    stds.append(sample_stats['std'].iloc[0] if not np.isnan(sample_stats['std'].iloc[0]) else 0)
                else:
                    means.append(0)
                    stds.append(0)
            
            # Plot bars with error bars
            bars = ax.bar(x_pos + i * width, means, width, 
                         yerr=stds, capsize=5, 
                         label=group, alpha=0.8)
            
            # Add value labels on bars
            for j, (bar, mean_val, std_val) in enumerate(zip(bars, means, stds)):
                if mean_val > 0:  # Only label non-zero bars
                    height = bar.get_height()
                    ax.text(bar.get_x() + bar.get_width()/2., height + std_val,
                           f'{mean_val:.2f}', ha='center', va='bottom', fontsize=8)
        
        # Customize the plot
        ax.set_xlabel('Organ')
        ax.set_ylabel(metric_label)
        ax.set_title(f'{metric_label} by Organ')
        ax.set_xticks(x_pos + width/2)
        ax.set_xticklabels(sample_types, rotation=45, ha='right')
        ax.legend()
        ax.grid(True, alpha=0.3)
    
    plt.tight_layout()
    
    # Save the plot if path is provided
    if save_path:
        # Create directory if it doesn't exist
        save_dir = os.path.dirname(save_path)
        if save_dir and not os.path.exists(save_dir):
            os.makedirs(save_dir)
        
        # Save with specified format and DPI
        plt.savefig(save_path, format=save_format, dpi=dpi, bbox_inches='tight')
        print(f"Plot saved to: {save_path}")
    
    plt.show()
    return fig

def plot_individual_sample_scatter(df, save_path=None, save_format='png', dpi=300):
    """
    Create scatter plots showing individual samples with error indication
    
    Parameters:
    -----------
    df : DataFrame
        Input data
    save_path : str, optional
        Full path to save the plot (e.g., 'plots/scatter_plots.png')
        If None, plot is displayed but not saved
    save_format : str, default 'png'
        File format for saving ('png', 'pdf', 'svg', 'jpg')
    dpi : int, default 300
        Resolution for saved image
    """
    
    fig, axes = plt.subplots(2, 2, figsize=(15, 12))
    fig.suptitle('Individual Sample Data Points by Study Group', fontsize=16, fontweight='bold')
    
    # Plot 1: Dose per organ vs Sample type
    ax1 = axes[0, 0]
    study_groups = df['subject_group'].unique()
    colors = plt.cm.Set1(np.linspace(0, 1, len(study_groups)))
    
    for i, group in enumerate(study_groups):
        group_data = df[df['subject_group'] == group]
        sample_types = group_data['sample_type']
        x_pos = [list(df['sample_type'].unique()).index(st) for st in sample_types]
        ax1.scatter(x_pos, group_data['percent_injected_dose_per_organ'], 
                   label=group, alpha=0.7, s=60, color=colors[i])
    
    ax1.set_xlabel('Organ')
    ax1.set_ylabel('%ID/organ')
    ax1.set_title('Dose per Organ by Organ')
    ax1.set_xticks(range(len(df['sample_type'].unique())))
    ax1.set_xticklabels(df['sample_type'].unique(), rotation=45, ha='right')
    ax1.legend()
    ax1.grid(True, alpha=0.3)
    
    # Plot 2: Dose per gram vs Sample type  
    ax2 = axes[0, 1]
    for i, group in enumerate(study_groups):
        group_data = df[df['subject_group'] == group]
        sample_types = group_data['sample_type']
        x_pos = [list(df['sample_type'].unique()).index(st) for st in sample_types]
        ax2.scatter(x_pos, group_data['percent_injected_dose_per_gram'],
                   label=group, alpha=0.7, s=60, color=colors[i])
    
    ax2.set_xlabel('Organ')
    ax2.set_ylabel('%ID/gram')
    ax2.set_title('Dose per Gram by Organ')
    ax2.set_xticks(range(len(df['sample_type'].unique())))
    ax2.set_xticklabels(df['sample_type'].unique(), rotation=45, ha='right')
    ax2.legend()
    ax2.grid(True, alpha=0.3)
    
    # Plot 3: Sample weight vs Sample type
    ax3 = axes[1, 0]
    for i, group in enumerate(study_groups):
        group_data = df[df['subject_group'] == group]
        sample_types = group_data['sample_type']
        x_pos = [list(df['sample_type'].unique()).index(st) for st in sample_types]
        ax3.scatter(x_pos, group_data['sample_weight'],
                   label=group, alpha=0.7, s=60, color=colors[i])
    
    ax3.set_xlabel('Organ')
    ax3.set_ylabel('Sample Weight (g)')
    ax3.set_title('Sample Weight by Organ')
    ax3.set_xticks(range(len(df['sample_type'].unique())))
    ax3.set_xticklabels(df['sample_type'].unique(), rotation=45, ha='right')
    ax3.legend()
    ax3.grid(True, alpha=0.3)
    
    # Plot 4: Dose per gram vs Dose per organ (correlation plot)
    ax4 = axes[1, 1]
    for i, group in enumerate(study_groups):
        group_data = df[df['subject_group'] == group]
        ax4.scatter(group_data['percent_injected_dose_per_organ'], 
                   group_data['percent_injected_dose_per_gram'],
                   label=group, alpha=0.7, s=60, color=colors[i])
    
    ax4.set_xlabel('%ID/organ')
    ax4.set_ylabel('%ID/gram')
    ax4.set_title('Dose per Gram vs Dose per Organ')
    ax4.legend()
    ax4.grid(True, alpha=0.3)
    
    plt.tight_layout()
    
    # Save the plot if path is provided
    if save_path:
        # Create directory if it doesn't exist
        save_dir = os.path.dirname(save_path)
        if save_dir and not os.path.exists(save_dir):
            os.makedirs(save_dir)
        
        # Save with specified format and DPI
        plt.savefig(save_path, format=save_format, dpi=dpi, bbox_inches='tight')
        print(f"Scatter plot saved to: {save_path}")
    
    plt.show()
    return fig
    
def print_tabular_by_sample_type(df):
    """
    Print data in tabular format grouped by sample_type, sorted by subject_group and subject_id
    """
    print("\n" + "=" * 80)
    print("GROUP SUMMARY")
    print("=" * 80)
    
    for sample_type in sorted(df['sample_type'].unique()):
        print(f"\n--- {sample_type.upper()} ---")
        sample_data = df[df['sample_type'] == sample_type]
        
        # Sort by subject_group first, then by subject_id
        sample_data_sorted = sample_data.sort_values(['subject_group', 'subject_id'])
        
        # Create a copy with renamed columns for display
        display_data = sample_data_sorted[['subject_group', 'subject_id', 'percent_injected_dose_per_organ', 
                                          'percent_injected_dose_per_gram', 'sample_weight']].copy()
        
        # Rename columns for display
        display_data.columns = ['Study Group', 'Animal', '%ID/organ', '%ID/gram', 'Sample Wt']
        
        # Print with nice formatting
        pd.set_option('display.max_columns', None)
        pd.set_option('display.width', None)
        pd.set_option('display.float_format', '{:.4f}'.format)
        
        print(display_data.to_string(index=False))

def print_stats_tabular_by_sample_type(df):
    """
    Print data in tabular format grouped by sample_type, sorted by subject_group 
    """
    print("\n" + "=" * 80)
    print("TABULAR VIEW of Statistics BY Organ")
    print("=" * 80)
    
    for sample_type in sorted(df['sample_type'].unique()):
        print(f"\n--- {sample_type.upper()} ---")
        sample_data = df[df['sample_type'] == sample_type]
        
        # Sort by subject_group first, then by subject_id
        sample_data_sorted = sample_data.sort_values(['subject_group'])
        
        # Create a copy with renamed columns for display
        display_data = sample_data_sorted[['subject_group', 'percent_injected_dose_per_organ', 
                                          'percent_injected_dose_per_gram', 'sample_weight']].copy()
        
        # Rename columns for display
        display_data.columns = ['Study Group', '%ID/organ', '%ID/gram', 'Sample Wt']
        
        # Print with nice formatting
        pd.set_option('display.max_columns', None)
        pd.set_option('display.width', None)
        pd.set_option('display.float_format', '{:.4f}'.format)
        
        print(display_data.to_string(index=False))

def save_all_plots(df, output_dir='plots'):
    """
    Generate and save all plots to specified directory
    """
    
    # Create output directory if it doesn't exist
    if not os.path.exists(output_dir):
        os.makedirs(output_dir)
    
    print(f"Saving all plots to directory: {output_dir}")
    
    # Save scatter plots
    plot_individual_sample_scatter(
        df, 
        save_path=os.path.join(output_dir, 'scatter_plots.png'),
        dpi=300
    )
    
    # Also save as PDF for publications
    plot_error_bars_by_sample_type_and_group(
        df, 
        save_path=os.path.join(output_dir, 'error_bars.pdf'),
        save_format='pdf'
    )
    
    print(f"All plots saved to: {output_dir}")

def print_stats_by_metric(df, subject_col='subject_group', sample_col='sample_type', 
                         metric_col='metric_label', mean_col='mean', std_col='std',
                         decimal_places=4, column_width=25):
    """
    Print statistics formatted by metric label with sample types as columns.
    
    Parameters:
    -----------
    df : pandas.DataFrame
        DataFrame containing the data
    subject_col : str, default 'subject_group'
        Column name for subject groups (row labels)
    sample_col : str, default 'sample_type'
        Column name for sample types (column headers)
    metric_col : str, default 'metric_label'
        Column name for metric labels (section headers)
    mean_col : str, default 'mean'
        Column name containing mean values
    std_col : str, default 'std'
        Column name containing standard deviation values
    decimal_places : int, default 4
        Number of decimal places to display
    column_width : int, default 25
        Width of each column in characters
    
    Returns:
    --------
    None (prints formatted output)
    """
    
    # Get unique metric labels
    metric_labels = df[metric_col].unique()
    
    for metric in metric_labels:
        print(f"\n{metric}")
        print()
        
        # Filter data for current metric
        metric_data = df[df[metric_col] == metric]
        
        # Get unique sample types for this metric
        sample_types = metric_data[sample_col].unique()
        
        # Print header with sample types
        header = " " * 10  # space for subject_group column
        for sample_type in sample_types:
            header += f"{sample_type:>{column_width}s} "
        print(header)
        print()
        
        # Get unique subject groups
        subject_groups = metric_data[subject_col].unique()
        
        # Print data for each subject group
        for subject_group in subject_groups:
            row = f"{subject_group:10s}"
            
            for sample_type in sample_types:
                # Find the row matching both subject_group and sample_type
                subset = metric_data[
                    (metric_data[subject_col] == subject_group) & 
                    (metric_data[sample_col] == sample_type)
                ]
                
                if not subset.empty:
                    mean_val = subset[mean_col].iloc[0]
                    std_val = subset[std_col].iloc[0]
                    formatted_val = f"{mean_val:.{decimal_places}f} +/- {std_val:.{decimal_places}f}"
                    row += f"{formatted_val:>{column_width}s} "
                else:
                    row += f"{'':>{column_width}s} "  # Empty cell if no data
            
            print(row)
        
        print()  # Extra line between metric labels


        
def main():
    # Example JSON data (replace with your actual data)
    #json_data = {'items': [{'children': [{'field': 'experiments/experiment', 'items': [{'children': [{'field': 'fields/field', 'items': [{'children': [], 'meta': {'xsi:type': 'xnat:experimentData_field', 'isHistory': False, 'start_date': 'Sat Aug 30 03:01:32 CDT 2025'}, 'data_fields': {'field': '/archive/projects/TEST01/BioDUploadedFiles/minimal_biod_data_with_group.csv', 'xnat_experimentData_field_id': 2, 'name': 'Upload_Provenance_2025-08-30_pixi'}}]}, {'field': 'sample_uptake_data', 'items': [{'children': [], 'meta': {'xsi:type': 'pixi:biodSampleUptakeData', 'isHistory': False, 'start_date': 'Sat Aug 30 03:01:32 CDT 2025'}, 'data_fields': {'percent_injected_dose_per_organ': 22.9137, 'sample_weight_unit': 'g', 'sample_type': 'spine', 'pixi_biodSampleUptakeData_id': 2, 'percent_injected_dose_per_gram': 17.6408, 'sample_weight': 1.2989}}, {'children': [], 'meta': {'xsi:type': 'pixi:biodSampleUptakeData', 'isHistory': False, 'start_date': 'Sat Aug 30 03:01:32 CDT 2025'}, 'data_fields': {'percent_injected_dose_per_organ': 5.5039, 'sample_weight_unit': 'g', 'sample_type': 'muscle', 'pixi_biodSampleUptakeData_id': 7, 'percent_injected_dose_per_gram': 0.6613, 'sample_weight': 0.1614}}, {'children': [], 'meta': {'xsi:type': 'pixi:biodSampleUptakeData', 'isHistory': False, 'start_date': 'Sat Aug 30 03:01:32 CDT 2025'}, 'data_fields': {'percent_injected_dose_per_organ': 39.1818, 'sample_weight_unit': 'g', 'sample_type': 'liver_all', 'pixi_biodSampleUptakeData_id': 5, 'percent_injected_dose_per_gram': 73.2371, 'sample_weight': 0.535}}, {'children': [], 'meta': {'xsi:type': 'pixi:biodSampleUptakeData', 'isHistory': False, 'start_date': 'Sat Aug 30 03:01:32 CDT 2025'}, 'data_fields': {'percent_injected_dose_per_organ': 16.44, 'sample_weight_unit': 'g', 'sample_type': 'legs', 'pixi_biodSampleUptakeData_id': 3, 'percent_injected_dose_per_gram': 45.5528, 'sample_weight': 0.3609}}, {'children': [], 'meta': {'xsi:type': 'pixi:biodSampleUptakeData', 'isHistory': False, 'start_date': 'Sat Aug 30 03:01:32 CDT 2025'}, 'data_fields': {'percent_injected_dose_per_organ': 1.608, 'sample_weight_unit': 'g', 'sample_type': 'kidney', 'pixi_biodSampleUptakeData_id': 6, 'percent_injected_dose_per_gram': 11.0899, 'sample_weight': 0.145}}, {'children': [], 'meta': {'xsi:type': 'pixi:biodSampleUptakeData', 'isHistory': False, 'start_date': 'Sat Aug 30 03:01:32 CDT 2025'}, 'data_fields': {'percent_injected_dose_per_organ': 0.6039, 'sample_weight_unit': 'g', 'sample_type': 'blood', 'pixi_biodSampleUptakeData_id': 4, 'percent_injected_dose_per_gram': 0.425, 'sample_weight': 0.0752}}]}, {'field': 'injection_data', 'items': [{'children': [], 'meta': {'xsi:type': 'pixi:biodInjectionData', 'isHistory': False, 'start_date': 'Sat Aug 30 03:01:32 CDT 2025'}, 'data_fields': {'pixi_biodInjectionData_id': 2}}]}], 'meta': {'xsi:type': 'pixi:biodistributionData', 'isHistory': False, 'start_date': 'Sat Aug 30 03:01:32 CDT 2025'}, 'data_fields': {'subject_ID': 'XNAT_S00002', 'project': 'TEST01', 'ID': 'XNAT_E00001', 'label': '11_Biod', 'id': 'XNAT_E00001'}}]}], 'meta': {'xsi:type': 'xnat:subjectData', 'isHistory': False, 'start_date': 'Sat Aug 30 03:01:32 CDT 2025'}, 'data_fields': {'project': 'TEST01', 'ID': 'XNAT_S00002', 'label': '11', 'group': 'Day 6 control no tumor'}}]}
    if os.environ['XNAT_XSI_TYPE'] != 'xnat:projectData':
        raise Exception('Manually enter your project id')

    project_id = os.environ['XNAT_ITEM_ID']
    # Extract sample data
    samples = getBioDExperiments()

    if not samples:
        print("No sample data found in the JSON structure.")
        return

    # Create DataFrame
    df = pd.DataFrame(samples)
    
    print("=== Raw Sample Data ===")
    print(f"\nTotal BioD Sample Uptakes: {len(df)}")
    print(f"Organs: {df['sample_type'].unique().tolist()}")
    print(f"Study groups: {df['subject_group'].unique().tolist()}")
    output_csv_dir = project_id + '_biod_csv'
    if not os.path.exists(output_csv_dir):
        os.makedirs(output_csv_dir)


    print_tabular_by_sample_type(df)
    df.to_csv(os.path.join(output_csv_dir, 'raw_data.csv'), index=False)

    
    print("\n=== Statistics by Subject Group and Organ ===")
    # Save comprehensive statistics with both CSV and report
    comprehensive_stats = calculate_statistics(
        df, 
        project_id,
        group_cols=['subject_group', 'sample_type'],
        save_csv=os.path.join(output_csv_dir, 'comprehensive_stats.csv'),
        save_report=os.path.join(output_csv_dir, 'comprehensive_stats_report.txt')
    )
    print_stats_by_metric(comprehensive_stats, decimal_places=4, column_width=25)
    
    save_all_plots(df, project_id + '_biod_plots')
    
    # Example: Filter for a specific sample type
    #print("\n=== Example: Statistics for 'liver_all' samples only ===")
    #liver_data = filter_by_sample_type(df, 'liver_all')
    #if not liver_data.empty:
    #    liver_stats = calculate_statistics(liver_data, group_by=['subject_group'])
    #    liver_stats = calculate_statistics(liver_data, 
    #            project_id,
    #            group_cols=['subject_group'],
    #            save_csv=os.path.join(output_csv_dir, 'liver_all_stats.csv'),
    #            save_report=os.path.join(output_csv_dir, 'liver_all_stats_report.txt'))
    #print_stats_by_metric(liver_stats, decimal_places=4, column_width=25)
    #else:
    #    print("No liver_all samples found.")
    
    # Example: Get statistics for a specific sample type across all groups
    #print("\n=== Statistics by Sample Type (across all groups) ===")
    #sample_type_stats = calculate_statistics(df, project_id, group_by=['sample_type'], 
    #                        save_csv=os.path.join(output_csv_dir, 'sample_type_stats.csv'),
    #                        save_report=os.path.join(output_csv_dir, 'sample_type_stats_report.txt')
    #                        )
    #print(sample_type_stats)
    
    return df, comprehensive_stats

def get_stats_for_sample_type_and_group(df, sample_type=None, subject_group=None):
    """
    Get statistics for a specific sample type and/or subject group.
    """
    filtered_df = df.copy()
    
    if sample_type:
        filtered_df = filtered_df[filtered_df['sample_type'] == sample_type]
    
    if subject_group:
        filtered_df = filtered_df[filtered_df['subject_group'] == subject_group]
    
    if filtered_df.empty:
        print(f"No data found for sample_type='{sample_type}', subject_group='{subject_group}'")
        return None
    
    metrics = ['percent_injected_dose_per_organ', 'percent_injected_dose_per_gram', 'sample_weight']
    
    stats_dict = {}
    for metric in metrics:
        values = filtered_df[metric].dropna()
        if len(values) > 0:
            stats_dict[metric] = {
                'mean': values.mean(),
                'std': values.std() 
            }
    
    return stats_dict

if __name__ == "__main__":
    # Run the main analysis
    df, stats = main()
    
